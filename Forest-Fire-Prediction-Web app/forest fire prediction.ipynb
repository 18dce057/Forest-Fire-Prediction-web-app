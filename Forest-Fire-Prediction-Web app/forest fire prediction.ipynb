{
 "cells": [
  {
   "cell_type": "code",
   "execution_count": 1,
   "metadata": {},
   "outputs": [],
   "source": [
    "import numpy as np\n",
    "import pandas as pd\n",
    "from sklearn.linear_model import LogisticRegression\n",
    "from sklearn.model_selection import train_test_split\n"
   ]
  },
  {
   "cell_type": "code",
   "execution_count": 2,
   "metadata": {},
   "outputs": [],
   "source": [
    "data = pd.read_csv(\"Forest_fire.csv\")\n",
    "data = np.array(data)"
   ]
  },
  {
   "cell_type": "code",
   "execution_count": 3,
   "metadata": {},
   "outputs": [
    {
     "data": {
      "text/plain": [
       "(39, 5)"
      ]
     },
     "execution_count": 3,
     "metadata": {},
     "output_type": "execute_result"
    }
   ],
   "source": [
    "data.shape"
   ]
  },
  {
   "cell_type": "code",
   "execution_count": 4,
   "metadata": {},
   "outputs": [
    {
     "data": {
      "text/plain": [
       "array([['Jharkand', 40, 45, 20, 1],\n",
       "       ['Bangalore', 50, 30, 10, 1],\n",
       "       ['Ecuador', 10, 20, 70, 0],\n",
       "       ['a', 60, 45, 70, 1],\n",
       "       ['Bangalore', 30, 48, 10, 1],\n",
       "       ['c', 50, 15, 30, 0],\n",
       "       ['de', 5, 35, 35, 0],\n",
       "       ['asd', 5, 20, 70, 0],\n",
       "       ['Ecuador', 60, 32, 19, 1],\n",
       "       ['r', 30, 50, 45, 1],\n",
       "       ['t', 40, 55, 80, 1],\n",
       "       ['y', 30, 39, 100, 0],\n",
       "       ['Jharkand', 10, 12, 12, 0],\n",
       "       ['Bangalore', 20, 23, 23, 0],\n",
       "       ['Ecuador', 60, 34, 15, 1],\n",
       "       ['canada', 80, 4, 68, 0],\n",
       "       ['c', 25, 56, 79, 1],\n",
       "       ['c', 12, 45, 90, 0],\n",
       "       ['asd', 28, 43, 15, 1],\n",
       "       ['asd', 26, 0, 32, 0],\n",
       "       ['ad', 32, 37, 21, 1],\n",
       "       ['sasd', 45, 48, 12, 1],\n",
       "       ['asd', 56, 15, 65, 0],\n",
       "       ['asdas', 67, 45, 33, 1],\n",
       "       ['das', 78, 49, 8, 1],\n",
       "       ['das', 89, 45, 18, 1],\n",
       "       ['ads', 21, 12, 44, 0],\n",
       "       ['ads', 11, 20, 59, 0],\n",
       "       ['asd', 1, 32, 70, 0],\n",
       "       [nan, 5, 20, 45, 0],\n",
       "       [nan, 42, 43, 20, 1],\n",
       "       [nan, 32, 60, 30, 1],\n",
       "       [nan, 5, 15, 5, 0],\n",
       "       [nan, 20, 30, 5, 0],\n",
       "       [nan, 30, 51, 2, 1],\n",
       "       [nan, 60, 60, 10, 1],\n",
       "       [nan, 10, 10, 60, 0],\n",
       "       [nan, 0, 30, 0, 0],\n",
       "       [nan, 45, 45, 15, 1]], dtype=object)"
      ]
     },
     "execution_count": 4,
     "metadata": {},
     "output_type": "execute_result"
    }
   ],
   "source": [
    "data"
   ]
  },
  {
   "cell_type": "code",
   "execution_count": 5,
   "metadata": {},
   "outputs": [],
   "source": [
    "X = data[1:, 1:-1]"
   ]
  },
  {
   "cell_type": "code",
   "execution_count": 6,
   "metadata": {},
   "outputs": [
    {
     "data": {
      "text/plain": [
       "array([[50, 30, 10],\n",
       "       [10, 20, 70],\n",
       "       [60, 45, 70],\n",
       "       [30, 48, 10],\n",
       "       [50, 15, 30],\n",
       "       [5, 35, 35],\n",
       "       [5, 20, 70],\n",
       "       [60, 32, 19],\n",
       "       [30, 50, 45],\n",
       "       [40, 55, 80],\n",
       "       [30, 39, 100],\n",
       "       [10, 12, 12],\n",
       "       [20, 23, 23],\n",
       "       [60, 34, 15],\n",
       "       [80, 4, 68],\n",
       "       [25, 56, 79],\n",
       "       [12, 45, 90],\n",
       "       [28, 43, 15],\n",
       "       [26, 0, 32],\n",
       "       [32, 37, 21],\n",
       "       [45, 48, 12],\n",
       "       [56, 15, 65],\n",
       "       [67, 45, 33],\n",
       "       [78, 49, 8],\n",
       "       [89, 45, 18],\n",
       "       [21, 12, 44],\n",
       "       [11, 20, 59],\n",
       "       [1, 32, 70],\n",
       "       [5, 20, 45],\n",
       "       [42, 43, 20],\n",
       "       [32, 60, 30],\n",
       "       [5, 15, 5],\n",
       "       [20, 30, 5],\n",
       "       [30, 51, 2],\n",
       "       [60, 60, 10],\n",
       "       [10, 10, 60],\n",
       "       [0, 30, 0],\n",
       "       [45, 45, 15]], dtype=object)"
      ]
     },
     "execution_count": 6,
     "metadata": {},
     "output_type": "execute_result"
    }
   ],
   "source": [
    "X"
   ]
  },
  {
   "cell_type": "code",
   "execution_count": 7,
   "metadata": {},
   "outputs": [],
   "source": [
    "y = data[1:, -1]"
   ]
  },
  {
   "cell_type": "code",
   "execution_count": 8,
   "metadata": {},
   "outputs": [
    {
     "data": {
      "text/plain": [
       "array([1, 0, 1, 1, 0, 0, 0, 1, 1, 1, 0, 0, 0, 1, 0, 1, 0, 1, 0, 1, 1, 0,\n",
       "       1, 1, 1, 0, 0, 0, 0, 1, 1, 0, 0, 1, 1, 0, 0, 1], dtype=object)"
      ]
     },
     "execution_count": 8,
     "metadata": {},
     "output_type": "execute_result"
    }
   ],
   "source": [
    "y"
   ]
  },
  {
   "cell_type": "code",
   "execution_count": 9,
   "metadata": {},
   "outputs": [],
   "source": [
    "y = y.astype('int')"
   ]
  },
  {
   "cell_type": "code",
   "execution_count": 10,
   "metadata": {},
   "outputs": [
    {
     "data": {
      "text/plain": [
       "array([1, 0, 1, 1, 0, 0, 0, 1, 1, 1, 0, 0, 0, 1, 0, 1, 0, 1, 0, 1, 1, 0,\n",
       "       1, 1, 1, 0, 0, 0, 0, 1, 1, 0, 0, 1, 1, 0, 0, 1])"
      ]
     },
     "execution_count": 10,
     "metadata": {},
     "output_type": "execute_result"
    }
   ],
   "source": [
    "y"
   ]
  },
  {
   "cell_type": "code",
   "execution_count": 11,
   "metadata": {},
   "outputs": [],
   "source": [
    "X = X.astype('int')"
   ]
  },
  {
   "cell_type": "code",
   "execution_count": 12,
   "metadata": {},
   "outputs": [
    {
     "data": {
      "text/plain": [
       "array([[ 50,  30,  10],\n",
       "       [ 10,  20,  70],\n",
       "       [ 60,  45,  70],\n",
       "       [ 30,  48,  10],\n",
       "       [ 50,  15,  30],\n",
       "       [  5,  35,  35],\n",
       "       [  5,  20,  70],\n",
       "       [ 60,  32,  19],\n",
       "       [ 30,  50,  45],\n",
       "       [ 40,  55,  80],\n",
       "       [ 30,  39, 100],\n",
       "       [ 10,  12,  12],\n",
       "       [ 20,  23,  23],\n",
       "       [ 60,  34,  15],\n",
       "       [ 80,   4,  68],\n",
       "       [ 25,  56,  79],\n",
       "       [ 12,  45,  90],\n",
       "       [ 28,  43,  15],\n",
       "       [ 26,   0,  32],\n",
       "       [ 32,  37,  21],\n",
       "       [ 45,  48,  12],\n",
       "       [ 56,  15,  65],\n",
       "       [ 67,  45,  33],\n",
       "       [ 78,  49,   8],\n",
       "       [ 89,  45,  18],\n",
       "       [ 21,  12,  44],\n",
       "       [ 11,  20,  59],\n",
       "       [  1,  32,  70],\n",
       "       [  5,  20,  45],\n",
       "       [ 42,  43,  20],\n",
       "       [ 32,  60,  30],\n",
       "       [  5,  15,   5],\n",
       "       [ 20,  30,   5],\n",
       "       [ 30,  51,   2],\n",
       "       [ 60,  60,  10],\n",
       "       [ 10,  10,  60],\n",
       "       [  0,  30,   0],\n",
       "       [ 45,  45,  15]])"
      ]
     },
     "execution_count": 12,
     "metadata": {},
     "output_type": "execute_result"
    }
   ],
   "source": [
    "X"
   ]
  },
  {
   "cell_type": "code",
   "execution_count": 25,
   "metadata": {},
   "outputs": [],
   "source": [
    "X_train, X_test, y_train, y_test = train_test_split(X, y, test_size=0.3, random_state=0)"
   ]
  },
  {
   "cell_type": "code",
   "execution_count": 26,
   "metadata": {},
   "outputs": [
    {
     "data": {
      "text/plain": [
       "(26, 3)"
      ]
     },
     "execution_count": 26,
     "metadata": {},
     "output_type": "execute_result"
    }
   ],
   "source": [
    "X_train.shape"
   ]
  },
  {
   "cell_type": "code",
   "execution_count": 27,
   "metadata": {},
   "outputs": [
    {
     "data": {
      "text/plain": [
       "(12, 3)"
      ]
     },
     "execution_count": 27,
     "metadata": {},
     "output_type": "execute_result"
    }
   ],
   "source": [
    "X_test.shape"
   ]
  },
  {
   "cell_type": "code",
   "execution_count": 28,
   "metadata": {},
   "outputs": [],
   "source": [
    "log_reg = LogisticRegression()"
   ]
  },
  {
   "cell_type": "code",
   "execution_count": 29,
   "metadata": {},
   "outputs": [
    {
     "data": {
      "text/plain": [
       "LogisticRegression()"
      ]
     },
     "execution_count": 29,
     "metadata": {},
     "output_type": "execute_result"
    }
   ],
   "source": [
    "log_reg.fit(X_train, y_train)"
   ]
  },
  {
   "cell_type": "code",
   "execution_count": 30,
   "metadata": {},
   "outputs": [],
   "source": [
    "inputt=[int(x) for x in \"45 32 60\".split(' ')]"
   ]
  },
  {
   "cell_type": "code",
   "execution_count": 31,
   "metadata": {},
   "outputs": [
    {
     "data": {
      "text/plain": [
       "[45, 32, 60]"
      ]
     },
     "execution_count": 31,
     "metadata": {},
     "output_type": "execute_result"
    }
   ],
   "source": [
    "inputt"
   ]
  },
  {
   "cell_type": "code",
   "execution_count": 42,
   "metadata": {},
   "outputs": [],
   "source": [
    "final=[np.array(inputt)]"
   ]
  },
  {
   "cell_type": "code",
   "execution_count": 43,
   "metadata": {},
   "outputs": [
    {
     "data": {
      "text/plain": [
       "[array([45, 32, 60])]"
      ]
     },
     "execution_count": 43,
     "metadata": {},
     "output_type": "execute_result"
    }
   ],
   "source": [
    "final"
   ]
  },
  {
   "cell_type": "code",
   "execution_count": 44,
   "metadata": {},
   "outputs": [],
   "source": [
    "b = log_reg.predict_proba(final)"
   ]
  },
  {
   "cell_type": "code",
   "execution_count": 45,
   "metadata": {},
   "outputs": [
    {
     "data": {
      "text/plain": [
       "array([[0.14459396, 0.85540604]])"
      ]
     },
     "execution_count": 45,
     "metadata": {},
     "output_type": "execute_result"
    }
   ],
   "source": [
    "b"
   ]
  },
  {
   "cell_type": "code",
   "execution_count": null,
   "metadata": {},
   "outputs": [],
   "source": []
  },
  {
   "cell_type": "code",
   "execution_count": null,
   "metadata": {},
   "outputs": [],
   "source": []
  }
 ],
 "metadata": {
  "kernelspec": {
   "display_name": "Python 3.7.7 64-bit",
   "language": "python",
   "name": "python37764bit5a27708ec23d4ea0bc8af327aaab9421"
  },
  "language_info": {
   "codemirror_mode": {
    "name": "ipython",
    "version": 3
   },
   "file_extension": ".py",
   "mimetype": "text/x-python",
   "name": "python",
   "nbconvert_exporter": "python",
   "pygments_lexer": "ipython3",
   "version": "3.7.7"
  }
 },
 "nbformat": 4,
 "nbformat_minor": 5
}
